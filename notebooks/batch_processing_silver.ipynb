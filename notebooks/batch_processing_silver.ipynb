{
 "cells": [
  {
   "cell_type": "markdown",
   "id": "849489e5-5d7d-401a-8fdd-4d07d642f6b2",
   "metadata": {},
   "source": [
    "# Silver Batch Processing"
   ]
  },
  {
   "cell_type": "code",
   "execution_count": 1,
   "id": "c2f8df16-f921-4c5b-ad7d-c4986cca1bcd",
   "metadata": {},
   "outputs": [
    {
     "data": {
      "text/html": [
       "<style>pre { white-space: pre !important; }</style>"
      ],
      "text/plain": [
       "<IPython.core.display.HTML object>"
      ]
     },
     "metadata": {},
     "output_type": "display_data"
    }
   ],
   "source": [
    "import os\n",
    "\n",
    "# Importing Dependencies\n",
    "from pyspark.sql import SparkSession\n",
    "from pyspark.sql.functions import to_date, regexp_replace\n",
    "\n",
    "from IPython.display import display, HTML\n",
    "display(HTML(\"<style>pre { white-space: pre !important; }</style>\"))"
   ]
  },
  {
   "cell_type": "code",
   "execution_count": 2,
   "id": "b5a22fe7-3f82-459e-ae7a-2254265de053",
   "metadata": {},
   "outputs": [
    {
     "name": "stderr",
     "output_type": "stream",
     "text": [
      "Setting default log level to \"WARN\".\n",
      "To adjust logging level use sc.setLogLevel(newLevel). For SparkR, use setLogLevel(newLevel).\n",
      "25/01/12 20:14:45 WARN NativeCodeLoader: Unable to load native-hadoop library for your platform... using builtin-java classes where applicable\n"
     ]
    }
   ],
   "source": [
    "# Initialize SparkSession\n",
    "spark = SparkSession.builder \\\n",
    "    .appName(\"SilverBatchProcessor\") \\\n",
    "    .master(\"local[*]\") \\\n",
    "    .getOrCreate()\n",
    "\n",
    "# Using Legacy Time parser for this dataset because latest version was having trouble parsing strings to dates..\n",
    "spark.conf.set(\"spark.sql.legacy.timeParserPolicy\", \"LEGACY\")"
   ]
  },
  {
   "cell_type": "markdown",
   "id": "d5458776-fb57-4c23-a3cb-9901e11c279f",
   "metadata": {},
   "source": [
    "### Read Raw dataset from Bronze"
   ]
  },
  {
   "cell_type": "code",
   "execution_count": 3,
   "id": "0042dbec-bf46-4bbc-9ed0-57b144b4eaa2",
   "metadata": {},
   "outputs": [],
   "source": [
    "# Path to bronze data\n",
    "csv_path = \"../data/Raw_Airline_data.csv\""
   ]
  },
  {
   "cell_type": "code",
   "execution_count": 4,
   "id": "0110ae77-6728-4686-9ad4-9fa3ca72812c",
   "metadata": {
    "tags": []
   },
   "outputs": [
    {
     "name": "stderr",
     "output_type": "stream",
     "text": [
      "                                                                                \r"
     ]
    }
   ],
   "source": [
    "# If your CSV has a header\n",
    "df = spark.read.format(\"csv\") \\\n",
    "    .option(\"header\", \"true\") \\\n",
    "    .option(\"inferSchema\", \"true\") \\\n",
    "    .load(csv_path)\n",
    "\n",
    "row_count = df.count()"
   ]
  },
  {
   "cell_type": "code",
   "execution_count": 5,
   "id": "ddcd482e-026f-4cb5-9217-1aae5293d5cd",
   "metadata": {},
   "outputs": [
    {
     "name": "stdout",
     "output_type": "stream",
     "text": [
      "There are 394476 records...\n"
     ]
    }
   ],
   "source": [
    "print(f'There are {row_count} records...')"
   ]
  },
  {
   "cell_type": "code",
   "execution_count": 6,
   "id": "7f4a04ea-b205-4e0b-9b16-dc15900c74d8",
   "metadata": {},
   "outputs": [
    {
     "name": "stdout",
     "output_type": "stream",
     "text": [
      "Passenger ID | StringType() | True\n",
      "First Name | StringType() | True\n",
      "Last Name | StringType() | True\n",
      "Gender | StringType() | True\n",
      "Age | IntegerType() | True\n",
      "Nationality | StringType() | True\n",
      "Airport Name | StringType() | True\n",
      "Airport Country Code | StringType() | True\n",
      "Country Name | StringType() | True\n",
      "Airport Continent | StringType() | True\n",
      "Continents | StringType() | True\n",
      "Departure Date | StringType() | True\n",
      "Arrival Airport | StringType() | True\n",
      "Pilot Name | StringType() | True\n",
      "Flight Status | StringType() | True\n"
     ]
    }
   ],
   "source": [
    "# Chekcing out the schema\n",
    "schema = df.schema\n",
    "for field in schema:\n",
    "    print(f\"{field.name} | {field.dataType} | {field.nullable}\")\n"
   ]
  },
  {
   "cell_type": "code",
   "execution_count": 7,
   "id": "5152e5ec-7bb8-47e1-a5f2-70f42d323cff",
   "metadata": {
    "scrolled": true,
    "tags": []
   },
   "outputs": [
    {
     "name": "stdout",
     "output_type": "stream",
     "text": [
      "+------------+----------+---------+------+---+-----------+--------------------+--------------------+-------------+-----------------+-------------+--------------+---------------+-------------------+-------------+\n",
      "|Passenger ID|First Name|Last Name|Gender|Age|Nationality|        Airport Name|Airport Country Code| Country Name|Airport Continent|   Continents|Departure Date|Arrival Airport|         Pilot Name|Flight Status|\n",
      "+------------+----------+---------+------+---+-----------+--------------------+--------------------+-------------+-----------------+-------------+--------------+---------------+-------------------+-------------+\n",
      "|      ABVWIg|    Edithe|   Leggis|Female| 62|      Japan|    Coldfoot Airport|                  US|United States|              NAM|North America|     6/28/2022|            CXF|Fransisco Hazeldine|      On Time|\n",
      "|      jkXXAX|    Elwood|     Catt|  Male| 62|  Nicaragua|   Kugluktuk Airport|                  CA|       Canada|              NAM|North America|    12/26/2022|            YCO|    Marla Parsonage|      On Time|\n",
      "|      CdUz2g|     Darby|  Felgate|  Male| 67|     Russia|Grenoble-Isère Ai...|                  FR|       France|               EU|       Europe|     1/18/2022|            GNB|       Rhonda Amber|      On Time|\n",
      "|      BRS38V|  Dominica|     Pyle|Female| 71|      China|Ottawa / Gatineau...|                  CA|       Canada|              NAM|North America|     9/16/2022|            YND|     Kacie Commucci|      Delayed|\n",
      "|      9kvTLo|       Bay|  Pencost|  Male| 21|      China|     Gillespie Field|                  US|United States|              NAM|North America|     2/25/2022|            SEE|        Ebonee Tree|      On Time|\n",
      "+------------+----------+---------+------+---+-----------+--------------------+--------------------+-------------+-----------------+-------------+--------------+---------------+-------------------+-------------+\n",
      "only showing top 5 rows\n",
      "\n"
     ]
    }
   ],
   "source": [
    "# Show Raw Data\n",
    "df.show(5)"
   ]
  },
  {
   "cell_type": "markdown",
   "id": "60656d4c-ee8f-49f5-af0a-eb5eaf120d31",
   "metadata": {},
   "source": [
    "### Removing Duplicates"
   ]
  },
  {
   "cell_type": "code",
   "execution_count": 8,
   "id": "b63bdb46-67a0-48e6-a6f6-127f9ccb16cc",
   "metadata": {},
   "outputs": [
    {
     "name": "stderr",
     "output_type": "stream",
     "text": [
      "[Stage 8:>                                                        (0 + 14) / 15]\r"
     ]
    },
    {
     "name": "stdout",
     "output_type": "stream",
     "text": [
      "There are 295857 records after deduping...\n"
     ]
    },
    {
     "name": "stderr",
     "output_type": "stream",
     "text": [
      "                                                                                \r"
     ]
    }
   ],
   "source": [
    "df_deduped = df.dropDuplicates()\n",
    "de_duped_row_count = df_deduped.count()\n",
    "print(f'There are {de_duped_row_count} records after deduping...')"
   ]
  },
  {
   "cell_type": "markdown",
   "id": "ac2ffa35-bac8-4146-99ff-f22e056a70fb",
   "metadata": {},
   "source": [
    "### Handle Null Values"
   ]
  },
  {
   "cell_type": "code",
   "execution_count": 9,
   "id": "190092f1-608b-43a6-b646-6a90c61aa924",
   "metadata": {},
   "outputs": [
    {
     "name": "stderr",
     "output_type": "stream",
     "text": [
      "[Stage 12:=======================>                                 (5 + 7) / 12]\r"
     ]
    },
    {
     "name": "stdout",
     "output_type": "stream",
     "text": [
      "There are 295857 records after deduping...\n"
     ]
    },
    {
     "name": "stderr",
     "output_type": "stream",
     "text": [
      "                                                                                \r"
     ]
    }
   ],
   "source": [
    "# Drop rows where any value is null\n",
    "df_no_nulls = df_deduped.dropna()\n",
    "df_no_nulls_count = df_no_nulls.count()\n",
    "print(f'There are {df_no_nulls_count} records after deduping...')"
   ]
  },
  {
   "cell_type": "markdown",
   "id": "4846a189-824c-4fe5-a93e-facc85643923",
   "metadata": {},
   "source": [
    "### Standardize Date Field\n",
    "#### Looks like there is inconsistency with string date formats"
   ]
  },
  {
   "cell_type": "code",
   "execution_count": 10,
   "id": "be4d93aa-95c6-4e53-a778-d6daf82c4150",
   "metadata": {},
   "outputs": [
    {
     "name": "stderr",
     "output_type": "stream",
     "text": [
      "[Stage 18:======================================>                  (8 + 4) / 12]\r"
     ]
    },
    {
     "name": "stdout",
     "output_type": "stream",
     "text": [
      "+--------------+\n",
      "|Departure Date|\n",
      "+--------------+\n",
      "|09-10-2022    |\n",
      "|4/15/2022     |\n",
      "|3/27/2022     |\n",
      "|02-01-2022    |\n",
      "|8/27/2022     |\n",
      "|4/13/2022     |\n",
      "|3/14/2022     |\n",
      "|11/30/2022    |\n",
      "|11/24/2022    |\n",
      "|08-10-2022    |\n",
      "|7/26/2022     |\n",
      "|6/13/2022     |\n",
      "|09-08-2022    |\n",
      "|1/29/2022     |\n",
      "|9/27/2022     |\n",
      "|4/17/2022     |\n",
      "|11/30/2022    |\n",
      "|12/13/2022    |\n",
      "|08-07-2022    |\n",
      "|10/20/2022    |\n",
      "+--------------+\n",
      "only showing top 20 rows\n",
      "\n"
     ]
    },
    {
     "name": "stderr",
     "output_type": "stream",
     "text": [
      "                                                                                \r"
     ]
    }
   ],
   "source": [
    "# some dates are seperated by '-' or '/' we need to standarize this field\n",
    "df_no_nulls.select(\"Departure Date\").show(truncate=False)"
   ]
  },
  {
   "cell_type": "code",
   "execution_count": 11,
   "id": "219bc85c-03e8-4cfc-a9f4-f5037d49f8d5",
   "metadata": {},
   "outputs": [],
   "source": [
    "\n",
    "# Replace '-' with '/' to standardize the format\n",
    "df_standardized = df_no_nulls.withColumn(\"Departure Date\", regexp_replace(\"Departure Date\", \"-\", \"/\"))\n",
    "\n",
    "# Convert the standardized date to a proper date format\n",
    "df_silver = df_standardized.withColumn(\"Departure Date\", to_date(\"Departure Date\", \"MM/dd/yyyy\"))"
   ]
  },
  {
   "cell_type": "code",
   "execution_count": 12,
   "id": "44a80398-c697-4432-9673-879c59b05f8b",
   "metadata": {
    "scrolled": true,
    "tags": []
   },
   "outputs": [
    {
     "name": "stderr",
     "output_type": "stream",
     "text": [
      "[Stage 21:=========>                                              (2 + 10) / 12]\r"
     ]
    },
    {
     "name": "stdout",
     "output_type": "stream",
     "text": [
      "+------------+----------+-----------+------+---+-------------+--------------------+--------------------+------------------+-----------------+-------------+--------------+---------------+-------------------+-------------+\n",
      "|Passenger ID|First Name|  Last Name|Gender|Age|  Nationality|        Airport Name|Airport Country Code|      Country Name|Airport Continent|   Continents|Departure Date|Arrival Airport|         Pilot Name|Flight Status|\n",
      "+------------+----------+-----------+------+---+-------------+--------------------+--------------------+------------------+-----------------+-------------+--------------+---------------+-------------------+-------------+\n",
      "|      aogYWd|    Vernen|   Ivakhnov|  Male| 90|        China|     Mullewa Airport|                  AU|         Australia|               OC|      Oceania|    2022-09-10|            MXU|     Lidia Kleinert|      Delayed|\n",
      "|      AbSraZ|   Janenna|     Goozee|Female| 80|United States|New Stuyahok Airport|                  US|     United States|              NAM|North America|    2022-04-15|            KNW|Quincy Gilberthorpe|      Delayed|\n",
      "|      pkdrkc|    Florry|Adamthwaite|Female| 12|  Philippines|         Ibo Airport|                  MZ|        Mozambique|               AF|       Africa|    2022-03-27|            IBO|       Vinny Friday|      Delayed|\n",
      "|      Djt2K3|     Barny|       Elan|  Male| 72|        China|Nantes Atlantique...|                  FR|            France|               EU|       Europe|    2022-02-01|            NTE|      Caspar Debill|      On Time|\n",
      "|      8MxRhM|     Alisa|    O'Neill|Female| 82|  Philippines|      Déline Airport|                  CA|            Canada|              NAM|North America|    2022-08-27|            YWJ|       Dietrich Luc|      On Time|\n",
      "|      6OEyWh| Augustina|    Werlock|Female| 29|     Honduras|  Tinson Pen Airport|                  JM|           Jamaica|              NAM|North America|    2022-04-13|            KTP|       Harp Gareisr|      Delayed|\n",
      "|      ZWIvph|      Cary|    Morrott|Female| 87|     Pakistan|   St Helens Airport|                  AU|         Australia|               OC|      Oceania|    2022-03-14|            HLS|    Carley Gillings|      On Time|\n",
      "|      0rzPV2|      Gail|    Birbeck|  Male| 48|      Vietnam|       Dabra Airport|                  ID|         Indonesia|               AS|         Asia|    2022-11-30|            DRH|   Zitella Portwain|    Cancelled|\n",
      "|      3ZOOdc|    Glynda|     Geelan|Female| 71|        Japan|     Humaitá Airport|                  BR|            Brazil|              SAM|South America|    2022-11-24|            HUW|        Sibyl Baert|      On Time|\n",
      "|      hDbIcN|    Carine|    Winscom|Female|  4|     Colombia|      Manari Airport|                  PG|  Papua New Guinea|               OC|      Oceania|    2022-08-10|            MRM|Gertruda Robertsson|      On Time|\n",
      "|      B4VXt5|   Laurent|    Agutter|  Male| 35|       France|      Mindik Airport|                  PG|  Papua New Guinea|               OC|      Oceania|    2022-07-26|            MXK|   Aeriel Calbaithe|      On Time|\n",
      "|      GbA6iF|     Tracy|   Prestner|Female| 82|     Paraguay|Ostafyevo Interna...|                  RU|Russian Federation|               EU|       Europe|    2022-06-13|            OSF|      Robyn Ubsdell|      Delayed|\n",
      "|      PUYxYd|    Ashlee|Hamberstone|Female|  9|      Belarus|Fort Chipewyan Ai...|                  CA|            Canada|              NAM|North America|    2022-09-08|            YPY|    Dana Goodenough|      On Time|\n",
      "|      9KICI4|    Nollie|   Coverlyn|Female| 53|        Ghana|   Erandique Airport|                  HN|          Honduras|              NAM|North America|    2022-01-29|            EDQ| Jesselyn Stapleton|    Cancelled|\n",
      "|      SDD4gM|   Kikelia|      Monan|Female| 90|        China| Gamarmalamo Airport|                  ID|         Indonesia|               AS|         Asia|    2022-09-27|            GLX|     Syman Dovidian|    Cancelled|\n",
      "|      X9nfAY|   Jessica|  Matteucci|Female| 49|United States|    Tarcoola Airport|                  AU|         Australia|               OC|      Oceania|    2022-04-17|            TAQ|    Barbette Hallad|      On Time|\n",
      "|      OEBxfP|   Stevena|  Tilliards|Female| 41|        China|Gordon Downs Airport|                  AU|         Australia|               OC|      Oceania|    2022-11-30|            GDD|    Mitchel Hasloch|      Delayed|\n",
      "|      UD3cAl| Annamarie|   Rickwood|Female| 72|  Philippines|Balesin Island Ai...|                  PH|       Philippines|               AS|         Asia|    2022-12-13|            BSI|      Warner Amdohr|      Delayed|\n",
      "|      yzP2n9|    Trixie|   Arington|Female| 62|      Morocco|Lankaran Internat...|                  AZ|        Azerbaijan|               AS|         Asia|    2022-08-07|            LLK|      Linus Giscken|      Delayed|\n",
      "|      UFngO4|    Stearn|      Solan|  Male| 49|       Russia|      Satwag Airport|                  PG|  Papua New Guinea|               OC|      Oceania|    2022-10-20|            SWG|  Burch Tomaszewski|      Delayed|\n",
      "+------------+----------+-----------+------+---+-------------+--------------------+--------------------+------------------+-----------------+-------------+--------------+---------------+-------------------+-------------+\n",
      "only showing top 20 rows\n",
      "\n"
     ]
    },
    {
     "name": "stderr",
     "output_type": "stream",
     "text": [
      "                                                                                \r"
     ]
    }
   ],
   "source": [
    "df_silver.show()"
   ]
  },
  {
   "cell_type": "markdown",
   "id": "b8c9d248-3fe5-4889-9010-6bd1d92574e3",
   "metadata": {},
   "source": [
    "## Enriching with Lat and Long information"
   ]
  },
  {
   "cell_type": "code",
   "execution_count": 13,
   "id": "cb364994-1d7a-4e53-a52d-c8057d1aaefc",
   "metadata": {},
   "outputs": [],
   "source": [
    "# Path to the countries.csv file\n",
    "countries_file = \"../data/countries.csv\"\n",
    "\n",
    "# Read the countries.csv into a PySpark DataFrame\n",
    "countries_df = spark.read.csv(countries_file, header=True, inferSchema=True)"
   ]
  },
  {
   "cell_type": "code",
   "execution_count": 14,
   "id": "99a51688-bf18-4d8f-987c-1fef6997a03f",
   "metadata": {},
   "outputs": [],
   "source": [
    "# Rename the 'name' column in countries_df to match the 'Country Name' column in silver_df\n",
    "countries_df = countries_df.withColumnRenamed(\"country\", \"Airport Country Code\")\n",
    "\n",
    "# Perform an inner join between silver_df and countries_df\n",
    "df_enriched = df_silver.join(countries_df, on=\"Airport Country Code\", how=\"inner\")"
   ]
  },
  {
   "cell_type": "code",
   "execution_count": 15,
   "id": "484511c2-9281-4a7a-846b-8a53af85fecb",
   "metadata": {},
   "outputs": [
    {
     "name": "stderr",
     "output_type": "stream",
     "text": [
      "[Stage 27:==============>                                          (3 + 9) / 12]\r"
     ]
    },
    {
     "name": "stdout",
     "output_type": "stream",
     "text": [
      "+--------------------+------------+----------+-----------+------+---+-------------+--------------------+------------------+-----------------+-------------+--------------+---------------+-------------------+-------------+----------+-----------+----------------+\n",
      "|Airport Country Code|Passenger ID|First Name|  Last Name|Gender|Age|  Nationality|        Airport Name|      Country Name|Airport Continent|   Continents|Departure Date|Arrival Airport|         Pilot Name|Flight Status|  latitude|  longitude|            name|\n",
      "+--------------------+------------+----------+-----------+------+---+-------------+--------------------+------------------+-----------------+-------------+--------------+---------------+-------------------+-------------+----------+-----------+----------------+\n",
      "|                  AU|      aogYWd|    Vernen|   Ivakhnov|  Male| 90|        China|     Mullewa Airport|         Australia|               OC|      Oceania|    2022-09-10|            MXU|     Lidia Kleinert|      Delayed|-25.274398| 133.775136|       Australia|\n",
      "|                  US|      AbSraZ|   Janenna|     Goozee|Female| 80|United States|New Stuyahok Airport|     United States|              NAM|North America|    2022-04-15|            KNW|Quincy Gilberthorpe|      Delayed|  37.09024| -95.712891|   United States|\n",
      "|                  MZ|      pkdrkc|    Florry|Adamthwaite|Female| 12|  Philippines|         Ibo Airport|        Mozambique|               AF|       Africa|    2022-03-27|            IBO|       Vinny Friday|      Delayed|-18.665695|  35.529562|      Mozambique|\n",
      "|                  FR|      Djt2K3|     Barny|       Elan|  Male| 72|        China|Nantes Atlantique...|            France|               EU|       Europe|    2022-02-01|            NTE|      Caspar Debill|      On Time| 46.227638|   2.213749|          France|\n",
      "|                  CA|      8MxRhM|     Alisa|    O'Neill|Female| 82|  Philippines|      Déline Airport|            Canada|              NAM|North America|    2022-08-27|            YWJ|       Dietrich Luc|      On Time| 56.130366|-106.346771|          Canada|\n",
      "|                  JM|      6OEyWh| Augustina|    Werlock|Female| 29|     Honduras|  Tinson Pen Airport|           Jamaica|              NAM|North America|    2022-04-13|            KTP|       Harp Gareisr|      Delayed| 18.109581| -77.297508|         Jamaica|\n",
      "|                  AU|      ZWIvph|      Cary|    Morrott|Female| 87|     Pakistan|   St Helens Airport|         Australia|               OC|      Oceania|    2022-03-14|            HLS|    Carley Gillings|      On Time|-25.274398| 133.775136|       Australia|\n",
      "|                  ID|      0rzPV2|      Gail|    Birbeck|  Male| 48|      Vietnam|       Dabra Airport|         Indonesia|               AS|         Asia|    2022-11-30|            DRH|   Zitella Portwain|    Cancelled| -0.789275| 113.921327|       Indonesia|\n",
      "|                  BR|      3ZOOdc|    Glynda|     Geelan|Female| 71|        Japan|     Humaitá Airport|            Brazil|              SAM|South America|    2022-11-24|            HUW|        Sibyl Baert|      On Time|-14.235004|  -51.92528|          Brazil|\n",
      "|                  PG|      hDbIcN|    Carine|    Winscom|Female|  4|     Colombia|      Manari Airport|  Papua New Guinea|               OC|      Oceania|    2022-08-10|            MRM|Gertruda Robertsson|      On Time| -6.314993|  143.95555|Papua New Guinea|\n",
      "|                  PG|      B4VXt5|   Laurent|    Agutter|  Male| 35|       France|      Mindik Airport|  Papua New Guinea|               OC|      Oceania|    2022-07-26|            MXK|   Aeriel Calbaithe|      On Time| -6.314993|  143.95555|Papua New Guinea|\n",
      "|                  RU|      GbA6iF|     Tracy|   Prestner|Female| 82|     Paraguay|Ostafyevo Interna...|Russian Federation|               EU|       Europe|    2022-06-13|            OSF|      Robyn Ubsdell|      Delayed|  61.52401| 105.318756|          Russia|\n",
      "|                  CA|      PUYxYd|    Ashlee|Hamberstone|Female|  9|      Belarus|Fort Chipewyan Ai...|            Canada|              NAM|North America|    2022-09-08|            YPY|    Dana Goodenough|      On Time| 56.130366|-106.346771|          Canada|\n",
      "|                  HN|      9KICI4|    Nollie|   Coverlyn|Female| 53|        Ghana|   Erandique Airport|          Honduras|              NAM|North America|    2022-01-29|            EDQ| Jesselyn Stapleton|    Cancelled| 15.199999| -86.241905|        Honduras|\n",
      "|                  ID|      SDD4gM|   Kikelia|      Monan|Female| 90|        China| Gamarmalamo Airport|         Indonesia|               AS|         Asia|    2022-09-27|            GLX|     Syman Dovidian|    Cancelled| -0.789275| 113.921327|       Indonesia|\n",
      "|                  AU|      X9nfAY|   Jessica|  Matteucci|Female| 49|United States|    Tarcoola Airport|         Australia|               OC|      Oceania|    2022-04-17|            TAQ|    Barbette Hallad|      On Time|-25.274398| 133.775136|       Australia|\n",
      "|                  AU|      OEBxfP|   Stevena|  Tilliards|Female| 41|        China|Gordon Downs Airport|         Australia|               OC|      Oceania|    2022-11-30|            GDD|    Mitchel Hasloch|      Delayed|-25.274398| 133.775136|       Australia|\n",
      "|                  PH|      UD3cAl| Annamarie|   Rickwood|Female| 72|  Philippines|Balesin Island Ai...|       Philippines|               AS|         Asia|    2022-12-13|            BSI|      Warner Amdohr|      Delayed| 12.879721| 121.774017|     Philippines|\n",
      "|                  AZ|      yzP2n9|    Trixie|   Arington|Female| 62|      Morocco|Lankaran Internat...|        Azerbaijan|               AS|         Asia|    2022-08-07|            LLK|      Linus Giscken|      Delayed| 40.143105|  47.576927|      Azerbaijan|\n",
      "|                  PG|      UFngO4|    Stearn|      Solan|  Male| 49|       Russia|      Satwag Airport|  Papua New Guinea|               OC|      Oceania|    2022-10-20|            SWG|  Burch Tomaszewski|      Delayed| -6.314993|  143.95555|Papua New Guinea|\n",
      "+--------------------+------------+----------+-----------+------+---+-------------+--------------------+------------------+-----------------+-------------+--------------+---------------+-------------------+-------------+----------+-----------+----------------+\n",
      "only showing top 20 rows\n",
      "\n"
     ]
    },
    {
     "name": "stderr",
     "output_type": "stream",
     "text": [
      "                                                                                \r"
     ]
    }
   ],
   "source": [
    "df_enriched.show()"
   ]
  },
  {
   "cell_type": "code",
   "execution_count": 16,
   "id": "7a0280d8-bd7a-4c2b-92cf-a45b20eee17e",
   "metadata": {},
   "outputs": [],
   "source": [
    "# unmatched_rows = df_silver.join(countries_df, on=\"Airport Country Code\", how=\"left_anti\")\n",
    "# unmatched_rows.show(truncate=False)\n",
    "# print(f\"Unmatched rows count: {unmatched_rows.count()}\")"
   ]
  },
  {
   "cell_type": "markdown",
   "id": "b3ff4c2c-4f9c-4d15-9e14-78a33c812194",
   "metadata": {},
   "source": [
    "### Saving silver table to silver data layer (just a csv in this case)"
   ]
  },
  {
   "cell_type": "code",
   "execution_count": 18,
   "id": "8570b023-df7a-4bf2-8053-9ee800ed8798",
   "metadata": {},
   "outputs": [
    {
     "name": "stderr",
     "output_type": "stream",
     "text": [
      "[Stage 36:>                                                         (0 + 1) / 1]\r"
     ]
    },
    {
     "name": "stdout",
     "output_type": "stream",
     "text": [
      "Silver data saved to: ../data/silver_data\n"
     ]
    },
    {
     "name": "stderr",
     "output_type": "stream",
     "text": [
      "                                                                                \r"
     ]
    }
   ],
   "source": [
    "# Path to save the silver DataFrame\n",
    "output_path = '../data/silver_data'\n",
    "\n",
    "# Save the DataFrame to a single CSV file\n",
    "df_enriched.coalesce(1).write.option(\"header\", True).mode(\"overwrite\").csv(output_path)\n",
    "\n",
    "print(f\"Silver data saved to: {output_path}\")"
   ]
  },
  {
   "cell_type": "code",
   "execution_count": null,
   "id": "d67f2f11-eafc-424f-930b-8d2e8208ec25",
   "metadata": {},
   "outputs": [],
   "source": []
  }
 ],
 "metadata": {
  "kernelspec": {
   "display_name": "Python 3 (ipykernel)",
   "language": "python",
   "name": "python3"
  },
  "language_info": {
   "codemirror_mode": {
    "name": "ipython",
    "version": 3
   },
   "file_extension": ".py",
   "mimetype": "text/x-python",
   "name": "python",
   "nbconvert_exporter": "python",
   "pygments_lexer": "ipython3",
   "version": "3.9.13"
  }
 },
 "nbformat": 4,
 "nbformat_minor": 5
}
