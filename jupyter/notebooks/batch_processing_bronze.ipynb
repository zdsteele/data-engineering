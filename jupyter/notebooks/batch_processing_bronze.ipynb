{
 "cells": [
  {
   "cell_type": "markdown",
   "id": "de9c0433-020f-457f-9613-1b86da104d3e",
   "metadata": {},
   "source": [
    "# Bronze Layer - Landing all Raw Data to single file"
   ]
  },
  {
   "cell_type": "code",
   "execution_count": 1,
   "id": "955130ad-7648-4d04-86cb-660fcd0162b0",
   "metadata": {},
   "outputs": [],
   "source": [
    "import os\n",
    "import pandas as pd\n"
   ]
  },
  {
   "cell_type": "code",
   "execution_count": 2,
   "id": "68c71b2b-07ba-4ab9-be04-572f7c13657d",
   "metadata": {},
   "outputs": [],
   "source": [
    "# Path to the data folder\n",
    "data_folder = '../data'"
   ]
  },
  {
   "cell_type": "code",
   "execution_count": 3,
   "id": "4417c1cf-9c82-4050-b4a8-37db89ef96ce",
   "metadata": {},
   "outputs": [],
   "source": [
    "# Get all CSV files in the folder with \"Airline\" in their names\n",
    "csv_files = [file for file in os.listdir(data_folder) if \"Airline\" in file and file.endswith('.csv') and \"Raw\" not in file]"
   ]
  },
  {
   "cell_type": "code",
   "execution_count": 4,
   "id": "7e56620f-ed7a-47c5-98a1-8fa43aab2a2f",
   "metadata": {},
   "outputs": [
    {
     "data": {
      "text/plain": [
       "['Airline Dataset Updated - v2.csv',\n",
       " 'Airline Dataset Updated.csv',\n",
       " 'Airline Dataset.csv']"
      ]
     },
     "execution_count": 4,
     "metadata": {},
     "output_type": "execute_result"
    }
   ],
   "source": [
    "csv_files"
   ]
  },
  {
   "cell_type": "code",
   "execution_count": 5,
   "id": "9e9fdd27-428e-4416-9a3f-5883091349c0",
   "metadata": {},
   "outputs": [],
   "source": [
    "# Read each csv file\n",
    "dataframes = []\n",
    "for csv_file in csv_files:\n",
    "    file_path = os.path.join(data_folder, csv_file)\n",
    "    df = pd.read_csv(file_path)\n",
    "    dataframes.append(df)\n",
    "    \n",
    "# Adding some duplicate data to handle in silver layer\n",
    "df = pd.read_csv(os.path.join(data_folder, 'Airline Dataset.csv'))\n",
    "dataframes.append(df)\n",
    "    \n",
    "# Combine all dataframes into a single dataframe\n",
    "combined_df = pd.concat(dataframes, ignore_index=True)"
   ]
  },
  {
   "cell_type": "code",
   "execution_count": 6,
   "id": "0fb6e4e3-8126-4501-80fd-dc687c8c4fed",
   "metadata": {},
   "outputs": [
    {
     "name": "stdout",
     "output_type": "stream",
     "text": [
      "Combined data saved to ../data/Raw_Airline_data.csv\n"
     ]
    }
   ],
   "source": [
    "# Save the combined dataframe to a single CSV file\n",
    "output_path = os.path.join(data_folder, 'Raw_Airline_data.csv')\n",
    "combined_df.to_csv(output_path, index=False)\n",
    "\n",
    "\n",
    "print(f\"Combined data saved to {output_path}\")"
   ]
  },
  {
   "cell_type": "code",
   "execution_count": null,
   "id": "d7ff0181-500b-4ef9-81ce-45c3f618f6bb",
   "metadata": {},
   "outputs": [],
   "source": []
  }
 ],
 "metadata": {
  "kernelspec": {
   "display_name": "Python 3 (ipykernel)",
   "language": "python",
   "name": "python3"
  },
  "language_info": {
   "codemirror_mode": {
    "name": "ipython",
    "version": 3
   },
   "file_extension": ".py",
   "mimetype": "text/x-python",
   "name": "python",
   "nbconvert_exporter": "python",
   "pygments_lexer": "ipython3",
   "version": "3.9.13"
  }
 },
 "nbformat": 4,
 "nbformat_minor": 5
}
